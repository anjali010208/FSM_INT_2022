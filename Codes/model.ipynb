{
 "cells": [
  {
   "cell_type": "code",
   "execution_count": null,
   "metadata": {},
   "outputs": [],
   "source": [
    "!jupyter nbconvert feature_engineering.ipynb --to script --output features_engineering --TagRemovePreprocessor.remove_cell_tags='{\"remove\"}'"
   ]
  },
  {
   "cell_type": "code",
   "execution_count": null,
   "metadata": {},
   "outputs": [],
   "source": [
    "!jupyter nbconvert tgt_baseline.ipynb --to script --output target_metrics_baseline --TagRemovePreprocessor.remove_cell_tags='{\"remove\"}'"
   ]
  },
  {
   "cell_type": "code",
   "execution_count": 1,
   "metadata": {},
   "outputs": [],
   "source": [
    "from datetime import datetime\n",
    "import pandas as pd\n",
    "import numpy as np\n",
    "import matplotlib.pyplot as plt\n",
    "import seaborn as sns\n",
    "\n",
    "%matplotlib inline"
   ]
  },
  {
   "cell_type": "code",
   "execution_count": 2,
   "metadata": {},
   "outputs": [],
   "source": [
    "train = pd.read_csv('train_FD001.csv')\n",
    "test = pd.read_csv('test_FD001.csv')\n",
    "rul = pd.read_csv('RUL_FD001.csv')"
   ]
  },
  {
   "cell_type": "code",
   "execution_count": 3,
   "metadata": {},
   "outputs": [
    {
     "name": "stdout",
     "output_type": "stream",
     "text": [
      "train: (20631, 26)\n",
      "test: (13096, 26)\n"
     ]
    },
    {
     "data": {
      "text/html": [
       "<div>\n",
       "<style scoped>\n",
       "    .dataframe tbody tr th:only-of-type {\n",
       "        vertical-align: middle;\n",
       "    }\n",
       "\n",
       "    .dataframe tbody tr th {\n",
       "        vertical-align: top;\n",
       "    }\n",
       "\n",
       "    .dataframe thead th {\n",
       "        text-align: right;\n",
       "    }\n",
       "</style>\n",
       "<table border=\"1\" class=\"dataframe\">\n",
       "  <thead>\n",
       "    <tr style=\"text-align: right;\">\n",
       "      <th></th>\n",
       "      <th>Unit</th>\n",
       "      <th>Time</th>\n",
       "      <th>OperationalSetting1</th>\n",
       "      <th>OperationalSetting2</th>\n",
       "      <th>OperationalSetting3</th>\n",
       "      <th>Sensor-1Measurement</th>\n",
       "      <th>Sensor-2Measurement</th>\n",
       "      <th>Sensor-3Measurement</th>\n",
       "      <th>Sensor-4Measurement</th>\n",
       "      <th>Sensor-5Measurement</th>\n",
       "      <th>...</th>\n",
       "      <th>Sensor-12Measurement</th>\n",
       "      <th>Sensor-13Measurement</th>\n",
       "      <th>Sensor-14Measurement</th>\n",
       "      <th>Sensor-15Measurement</th>\n",
       "      <th>Sensor-16Measurement</th>\n",
       "      <th>Sensor-17Measurement</th>\n",
       "      <th>Sensor-18Measurement</th>\n",
       "      <th>Sensor-19Measurement</th>\n",
       "      <th>Sensor-20Measurement</th>\n",
       "      <th>Sensor-21Measurement</th>\n",
       "    </tr>\n",
       "  </thead>\n",
       "  <tbody>\n",
       "    <tr>\n",
       "      <th>0</th>\n",
       "      <td>1</td>\n",
       "      <td>1</td>\n",
       "      <td>0.0023</td>\n",
       "      <td>0.0003</td>\n",
       "      <td>100</td>\n",
       "      <td>518.67</td>\n",
       "      <td>643.02</td>\n",
       "      <td>1585.29</td>\n",
       "      <td>1398.21</td>\n",
       "      <td>14.62</td>\n",
       "      <td>...</td>\n",
       "      <td>521.72</td>\n",
       "      <td>2388.03</td>\n",
       "      <td>8125.55</td>\n",
       "      <td>8.4052</td>\n",
       "      <td>0.03</td>\n",
       "      <td>392</td>\n",
       "      <td>2388</td>\n",
       "      <td>100</td>\n",
       "      <td>38.86</td>\n",
       "      <td>23.3735</td>\n",
       "    </tr>\n",
       "    <tr>\n",
       "      <th>1</th>\n",
       "      <td>1</td>\n",
       "      <td>2</td>\n",
       "      <td>-0.0027</td>\n",
       "      <td>-0.0003</td>\n",
       "      <td>100</td>\n",
       "      <td>518.67</td>\n",
       "      <td>641.71</td>\n",
       "      <td>1588.45</td>\n",
       "      <td>1395.42</td>\n",
       "      <td>14.62</td>\n",
       "      <td>...</td>\n",
       "      <td>522.16</td>\n",
       "      <td>2388.06</td>\n",
       "      <td>8139.62</td>\n",
       "      <td>8.3803</td>\n",
       "      <td>0.03</td>\n",
       "      <td>393</td>\n",
       "      <td>2388</td>\n",
       "      <td>100</td>\n",
       "      <td>39.02</td>\n",
       "      <td>23.3916</td>\n",
       "    </tr>\n",
       "  </tbody>\n",
       "</table>\n",
       "<p>2 rows × 26 columns</p>\n",
       "</div>"
      ],
      "text/plain": [
       "   Unit  Time  OperationalSetting1  OperationalSetting2  OperationalSetting3  \\\n",
       "0     1     1               0.0023               0.0003                  100   \n",
       "1     1     2              -0.0027              -0.0003                  100   \n",
       "\n",
       "   Sensor-1Measurement  Sensor-2Measurement  Sensor-3Measurement  \\\n",
       "0               518.67               643.02              1585.29   \n",
       "1               518.67               641.71              1588.45   \n",
       "\n",
       "   Sensor-4Measurement  Sensor-5Measurement  ...  Sensor-12Measurement  \\\n",
       "0              1398.21                14.62  ...                521.72   \n",
       "1              1395.42                14.62  ...                522.16   \n",
       "\n",
       "   Sensor-13Measurement  Sensor-14Measurement  Sensor-15Measurement  \\\n",
       "0               2388.03               8125.55                8.4052   \n",
       "1               2388.06               8139.62                8.3803   \n",
       "\n",
       "   Sensor-16Measurement  Sensor-17Measurement  Sensor-18Measurement  \\\n",
       "0                  0.03                   392                  2388   \n",
       "1                  0.03                   393                  2388   \n",
       "\n",
       "   Sensor-19Measurement  Sensor-20Measurement  Sensor-21Measurement  \n",
       "0                   100                 38.86               23.3735  \n",
       "1                   100                 39.02               23.3916  \n",
       "\n",
       "[2 rows x 26 columns]"
      ]
     },
     "execution_count": 3,
     "metadata": {},
     "output_type": "execute_result"
    }
   ],
   "source": [
    "print('train:', train.shape)\n",
    "print('test:', test.shape)\n",
    "test.head(2)"
   ]
  },
  {
   "cell_type": "markdown",
   "metadata": {},
   "source": []
  },
  {
   "cell_type": "code",
   "execution_count": 4,
   "metadata": {},
   "outputs": [],
   "source": [
    "from sklearn.model_selection import GroupKFold\n",
    "from sklearn.model_selection import cross_validate"
   ]
  },
  {
   "cell_type": "code",
   "execution_count": 5,
   "metadata": {},
   "outputs": [],
   "source": [
    "class CustomGroupKFold(GroupKFold):\n",
    "    def split(self, X, y, groups):\n",
    "        splits = super().split(X, y, groups)\n",
    "\n",
    "        for train_ind, val_ind in splits:\n",
    "            yield train_ind, val_ind[(y[val_ind] > 6) & (y[val_ind] < 135)]"
   ]
  },
  {
   "cell_type": "code",
   "execution_count": 9,
   "metadata": {},
   "outputs": [],
   "source": [
    "def evaluate(model, X, y, groups, cv, \n",
    "             scoring=['neg_root_mean_squared_error', 'neg_mean_absolute_error'], \n",
    "             n_jobs=None, \n",
    "             verbose=False):\n",
    "    cv_results = cross_validate(\n",
    "        model, \n",
    "        X=X,\n",
    "        y=y,\n",
    "        groups=groups,\n",
    "        scoring=scoring,\n",
    "        cv=cv,\n",
    "        return_train_score=True,\n",
    "        return_estimator=True,\n",
    "        n_jobs=n_jobs,\n",
    "        verbose=verbose\n",
    "    )\n",
    "    \n",
    "    for k, v in cv_results.items():\n",
    "        if k.startswith('train_') or k.startswith('test_'):\n",
    "            k_sp = k.split('_')\n",
    "            print(f'[{k_sp[0]}] :: {\" \".join(k_sp[2:])} : {np.abs(v.mean()):.2f} +- {v.std():.2f}')\n",
    "    return cv_results"
   ]
  },
  {
   "cell_type": "code",
   "execution_count": 10,
   "metadata": {},
   "outputs": [
    {
     "data": {
      "image/png": "[encoded data removed]",
      "text/plain": [
       "<Figure size 432x288 with 1 Axes>"
      ]
     },
     "metadata": {
      "needs_background": "light"
     },
     "output_type": "display_data"
    },
    {
     "name": "stderr",
     "output_type": "stream",
     "text": [
      "c:\\Users\\Sunil kumar\\anaconda3\\lib\\site-packages\\seaborn\\distributions.py:2619: FutureWarning: `distplot` is a deprecated function and will be removed in a future version. Please adapt your code to use either `displot` (a figure-level function with similar flexibility) or `histplot` (an axes-level function for histograms).\n",
      "  warnings.warn(msg, FutureWarning)\n",
      "c:\\Users\\Sunil kumar\\anaconda3\\lib\\site-packages\\seaborn\\distributions.py:2619: FutureWarning: `distplot` is a deprecated function and will be removed in a future version. Please adapt your code to use either `displot` (a figure-level function with similar flexibility) or `histplot` (an axes-level function for histograms).\n",
      "  warnings.warn(msg, FutureWarning)\n"
     ]
    },
    {
     "data": {
      "image/png": "[encoded data removed]",
      "text/plain": [
       "<Figure size 1008x576 with 1 Axes>"
      ]
     },
     "metadata": {
      "needs_background": "light"
     },
     "output_type": "display_data"
    },
    {
     "data": {
      "image/png": "[encoded data removed]",
      "text/plain": [
       "<Figure size 432x288 with 1 Axes>"
      ]
     },
     "metadata": {
      "needs_background": "light"
     },
     "output_type": "display_data"
    },
    {
     "data": {
      "image/png": "[encoded data removed]",
      "text/plain": [
       "<Figure size 720x432 with 1 Axes>"
      ]
     },
     "metadata": {
      "needs_background": "light"
     },
     "output_type": "display_data"
    }
   ],
   "source": [
    "from target_metrics_baseline import plot_residuals_vs_actual\n",
    "from target_metrics_baseline import rul_metrics_score"
   ]
  },
  {
   "cell_type": "code",
   "execution_count": 11,
   "metadata": {},
   "outputs": [],
   "source": [
    "def test_model(model, X_test, engines, test_rul, plot_figures=False, **plot_kwargs):\n",
    "    X_test_last = X_test.groupby(engines, as_index=False).last()\n",
    "\n",
    "    if plot_figures:\n",
    "        pred_rul = model.predict(X_test_last.values)\n",
    "        plot_residuals_vs_actual(rul.to_numpy().flatten(), pred_rul, **plot_kwargs)\n",
    "\n",
    "    return rul_metrics_score(model, X_test_last.values, test_rul, metrics='all')"
   ]
  },
  {
   "cell_type": "code",
   "execution_count": null,
   "metadata": {},
   "outputs": [],
   "source": []
  },
  {
   "cell_type": "markdown",
   "metadata": {},
   "source": [
    "Linear Model"
   ]
  },
  {
   "cell_type": "code",
   "execution_count": 12,
   "metadata": {},
   "outputs": [],
   "source": [
    "from sklearn.pipeline import Pipeline\n",
    "from sklearn.preprocessing import StandardScaler\n",
    "from sklearn.linear_model import PoissonRegressor\n",
    "from sklearn.compose import make_column_selector\n",
    "\n",
    "from target_metrics_baseline import calculate_RUL"
   ]
  },
  {
   "cell_type": "code",
   "execution_count": 13,
   "metadata": {},
   "outputs": [],
   "source": [
    "RUL_THRESHOLD = 135"
   ]
  },
  {
   "cell_type": "code",
   "execution_count": 14,
   "metadata": {},
   "outputs": [
    {
     "name": "stdout",
     "output_type": "stream",
     "text": [
      "[test] :: root mean squared error : 23.16 +- 2.25\n",
      "[train] :: root mean squared error : 25.98 +- 0.48\n",
      "[test] :: mean absolute error : 18.52 +- 2.22\n",
      "[train] :: mean absolute error : 21.06 +- 0.51\n"
     ]
    }
   ],
   "source": [
    "get_ftr_names = make_column_selector(pattern='Sensor')\n",
    "\n",
    "model = Pipeline([\n",
    "    ('scale', StandardScaler()),\n",
    "    ('model', PoissonRegressor(alpha=0.1))\n",
    "])\n",
    "\n",
    "cv_result = evaluate(\n",
    "    model,\n",
    "    X=train[get_ftr_names(train)].values, \n",
    "    y=calculate_RUL(train, upper_threshold=RUL_THRESHOLD), \n",
    "    groups=train['Unit'], \n",
    "    cv=CustomGroupKFold(n_splits=5)\n",
    ")"
   ]
  },
  {
   "cell_type": "code",
   "execution_count": 15,
   "metadata": {},
   "outputs": [
    {
     "name": "stdout",
     "output_type": "stream",
     "text": [
      "Requirement already satisfied: sktime in c:\\users\\sunil kumar\\anaconda3\\lib\\site-packages (0.13.0)\n",
      "Requirement already satisfied: numba>=0.53 in c:\\users\\sunil kumar\\anaconda3\\lib\\site-packages (from sktime) (0.55.1)\n",
      "Requirement already satisfied: numpy<1.23,>=1.21.0 in c:\\users\\sunil kumar\\anaconda3\\lib\\site-packages (from sktime) (1.21.5)\n",
      "Requirement already satisfied: scipy<1.9.0 in c:\\users\\sunil kumar\\anaconda3\\lib\\site-packages (from sktime) (1.7.3)\n",
      "Requirement already satisfied: scikit-learn<1.2.0,>=0.24.0 in c:\\users\\sunil kumar\\anaconda3\\lib\\site-packages (from sktime) (1.0.2)\n",
      "Requirement already satisfied: deprecated>=1.2.13 in c:\\users\\sunil kumar\\anaconda3\\lib\\site-packages (from sktime) (1.2.13)\n",
      "Requirement already satisfied: statsmodels>=0.12.1 in c:\\users\\sunil kumar\\anaconda3\\lib\\site-packages (from sktime) (0.13.2)\n",
      "Requirement already satisfied: pandas<1.5.0,>=1.1.0 in c:\\users\\sunil kumar\\anaconda3\\lib\\site-packages (from sktime) (1.4.2)\n",
      "Requirement already satisfied: wrapt<2,>=1.10 in c:\\users\\sunil kumar\\anaconda3\\lib\\site-packages (from deprecated>=1.2.13->sktime) (1.12.1)\n",
      "Requirement already satisfied: setuptools in c:\\users\\sunil kumar\\anaconda3\\lib\\site-packages (from numba>=0.53->sktime) (61.2.0)\n",
      "Requirement already satisfied: llvmlite<0.39,>=0.38.0rc1 in c:\\users\\sunil kumar\\anaconda3\\lib\\site-packages (from numba>=0.53->sktime) (0.38.0)\n",
      "Requirement already satisfied: python-dateutil>=2.8.1 in c:\\users\\sunil kumar\\anaconda3\\lib\\site-packages (from pandas<1.5.0,>=1.1.0->sktime) (2.8.2)\n",
      "Requirement already satisfied: pytz>=2020.1 in c:\\users\\sunil kumar\\anaconda3\\lib\\site-packages (from pandas<1.5.0,>=1.1.0->sktime) (2021.3)\n",
      "Requirement already satisfied: six>=1.5 in c:\\users\\sunil kumar\\anaconda3\\lib\\site-packages (from python-dateutil>=2.8.1->pandas<1.5.0,>=1.1.0->sktime) (1.16.0)\n",
      "Requirement already satisfied: joblib>=0.11 in c:\\users\\sunil kumar\\anaconda3\\lib\\site-packages (from scikit-learn<1.2.0,>=0.24.0->sktime) (1.1.0)\n",
      "Requirement already satisfied: threadpoolctl>=2.0.0 in c:\\users\\sunil kumar\\anaconda3\\lib\\site-packages (from scikit-learn<1.2.0,>=0.24.0->sktime) (2.2.0)\n",
      "Requirement already satisfied: patsy>=0.5.2 in c:\\users\\sunil kumar\\anaconda3\\lib\\site-packages (from statsmodels>=0.12.1->sktime) (0.5.2)\n",
      "Requirement already satisfied: packaging>=21.3 in c:\\users\\sunil kumar\\anaconda3\\lib\\site-packages (from statsmodels>=0.12.1->sktime) (21.3)\n",
      "Requirement already satisfied: pyparsing!=3.0.5,>=2.0.2 in c:\\users\\sunil kumar\\anaconda3\\lib\\site-packages (from packaging>=21.3->statsmodels>=0.12.1->sktime) (3.0.4)\n",
      "Note: you may need to restart the kernel to use updated packages.\n"
     ]
    }
   ],
   "source": [
    "pip install sktime"
   ]
  },
  {
   "cell_type": "code",
   "execution_count": 16,
   "metadata": {},
   "outputs": [
    {
     "name": "stdout",
     "output_type": "stream",
     "text": [
      "train.shape = (20631, 27)\n",
      "Droped low variance features: ['OperationalSetting3', 'Sensor-1Measurement', 'Sensor-5Measurement', 'Sensor-10Measurement', 'Sensor-16Measurement', 'Sensor-18Measurement', 'Sensor-19Measurement']\n",
      "Start Rolling TS\n"
     ]
    },
    {
     "name": "stderr",
     "output_type": "stream",
     "text": [
      "Rolling: 100%|██████████| 20/20 [00:20<00:00,  1.05s/it]\n"
     ]
    },
    {
     "name": "stdout",
     "output_type": "stream",
     "text": [
      "Done Rolling TS in 0:00:22.333203\n",
      "Start Extracting Features\n"
     ]
    },
    {
     "name": "stderr",
     "output_type": "stream",
     "text": [
      "Feature Extraction: 100%|██████████| 20/20 [12:22<00:00, 37.13s/it]\n"
     ]
    },
    {
     "name": "stdout",
     "output_type": "stream",
     "text": [
      "Done Extracting Features in 0:13:09.453888\n",
      "Droped 19 duplicate features\n",
      "Droped 13 features with NA values\n",
      "Selected 9 out of 40 features: [0, 2, 3, 4, 5, 1, 10, 15, 31]\n",
      "Droped low variance features: ['OperationalSetting3', 'Sensor-1Measurement', 'Sensor-5Measurement', 'Sensor-10Measurement', 'Sensor-16Measurement', 'Sensor-18Measurement', 'Sensor-19Measurement']\n",
      "Start Rolling TS\n"
     ]
    },
    {
     "name": "stderr",
     "output_type": "stream",
     "text": [
      "Rolling: 100%|██████████| 20/20 [00:12<00:00,  1.57it/s]\n"
     ]
    },
    {
     "name": "stdout",
     "output_type": "stream",
     "text": [
      "Done Rolling TS in 0:00:14.062069\n",
      "Start Converting multi-index DF to sktime nested DF\n",
      "Converted multi-index DF to sktime nested DF in 0:11:04.432143\n"
     ]
    }
   ],
   "source": [
    "from features_engineering import LowVarianceFeaturesRemover, ScalePerEngine"
   ]
  },
  {
   "cell_type": "code",
   "execution_count": 17,
   "metadata": {},
   "outputs": [],
   "source": [
    "sensor_names = ['Sensor-{}Measurement'.format(i) for i in range(1,22)] "
   ]
  },
  {
   "cell_type": "code",
   "execution_count": 18,
   "metadata": {},
   "outputs": [],
   "source": [
    "from sklearn.pipeline import Pipeline"
   ]
  },
  {
   "cell_type": "code",
   "execution_count": 19,
   "metadata": {},
   "outputs": [
    {
     "name": "stdout",
     "output_type": "stream",
     "text": [
      "Droped low variance features: ['OperationalSetting3', 'Sensor-1Measurement', 'Sensor-5Measurement', 'Sensor-10Measurement', 'Sensor-16Measurement', 'Sensor-18Measurement', 'Sensor-19Measurement']\n"
     ]
    }
   ],
   "source": [
    "preprocess_pipe = Pipeline([\n",
    "     # Scaling sensors values\n",
    "    ('scale-per-engine', ScalePerEngine(n_first_cycles=15, sensors_columns=sensor_names)),\n",
    "    # Cleaning constant features\n",
    "    ('drop-low-variance', LowVarianceFeaturesRemover(threshold=0))\n",
    "])\n",
    "\n",
    "train_sc = preprocess_pipe.fit_transform(train)"
   ]
  },
  {
   "cell_type": "code",
   "execution_count": 20,
   "metadata": {},
   "outputs": [
    {
     "name": "stdout",
     "output_type": "stream",
     "text": [
      "[test] :: root mean squared error : 19.18 +- 0.79\n",
      "[train] :: root mean squared error : 19.63 +- 0.11\n",
      "[test] :: mean absolute error : 15.00 +- 0.61\n",
      "[train] :: mean absolute error : 15.40 +- 0.11\n"
     ]
    }
   ],
   "source": [
    "model = Pipeline([\n",
    "    ('scale', StandardScaler()),\n",
    "    ('model', PoissonRegressor(alpha=0.1))\n",
    "])\n",
    "\n",
    "cv_result = evaluate(\n",
    "    model, \n",
    "    X=train_sc[get_ftr_names(train_sc)].values, \n",
    "    y=calculate_RUL(train_sc, upper_threshold=RUL_THRESHOLD), \n",
    "    groups=train_sc['Unit'], \n",
    "    cv=CustomGroupKFold(n_splits=5)\n",
    ")"
   ]
  },
  {
   "cell_type": "markdown",
   "metadata": {},
   "source": [
    "Poisson Regression with TSfresh Features"
   ]
  },
  {
   "cell_type": "code",
   "execution_count": 21,
   "metadata": {},
   "outputs": [],
   "source": [
    "from features_engineering import (RollTimeSeries, TSFreshFeaturesExtractor, CustomPCA, TSFreshFeaturesSelector, tsfresh_calc)"
   ]
  },
  {
   "cell_type": "code",
   "execution_count": 22,
   "metadata": {},
   "outputs": [],
   "source": [
    "features_long_h_pipe = Pipeline([    \n",
    "    # Scaling \n",
    "    ('scale-per-engine', ScalePerEngine(n_first_cycles=10, sensors_columns=sensor_names)),\n",
    "    # Cleaning\n",
    "    ('drop-low-variance', LowVarianceFeaturesRemover(threshold=0)),\n",
    "    #Preprocessing\n",
    "    ('roll-time-series', RollTimeSeries(min_timeshift=19, max_timeshift=19, rolling_direction=1)),\n",
    "    \n",
    "    # TSFresh features engineering\n",
    "    ('extract-tsfresh-features', TSFreshFeaturesExtractor(calc=tsfresh_calc)),\n",
    "    ('PCA', CustomPCA(n_components=20)),\n",
    "    ('features-selection', TSFreshFeaturesSelector(fdr_level=0.001)),\n",
    "])"
   ]
  },
  {
   "cell_type": "code",
   "execution_count": 23,
   "metadata": {},
   "outputs": [],
   "source": [
    "features_short_h_pipe = Pipeline([    \n",
    "    # Scaling \n",
    "    ('scale-per-engine', ScalePerEngine(n_first_cycles=10, sensors_columns=sensor_names)),\n",
    "    # Cleaning\n",
    "    ('drop-low-variance', LowVarianceFeaturesRemover(threshold=0)),\n",
    "    #Preprocessing\n",
    "    ('roll-time-series', RollTimeSeries(min_timeshift=4, max_timeshift=4, rolling_direction=1)),\n",
    "    \n",
    "    # TSFresh features engineering\n",
    "    ('extract-tsfresh-features', TSFreshFeaturesExtractor(calc={'mean': None})),\n",
    "    ('features-selection', TSFreshFeaturesSelector(fdr_level=0.0002)),\n",
    "])"
   ]
  },
  {
   "cell_type": "code",
   "execution_count": 24,
   "metadata": {},
   "outputs": [
    {
     "name": "stdout",
     "output_type": "stream",
     "text": [
      "Droped low variance features: ['OperationalSetting3', 'Sensor-1Measurement', 'Sensor-5Measurement', 'Sensor-10Measurement', 'Sensor-16Measurement', 'Sensor-18Measurement', 'Sensor-19Measurement']\n",
      "Start Rolling TS\n"
     ]
    },
    {
     "name": "stderr",
     "output_type": "stream",
     "text": [
      "Rolling: 100%|██████████| 20/20 [01:10<00:00,  3.51s/it]\n"
     ]
    },
    {
     "name": "stdout",
     "output_type": "stream",
     "text": [
      "Done Rolling TS in 0:01:12.142896\n",
      "Start Extracting Features\n"
     ]
    },
    {
     "name": "stderr",
     "output_type": "stream",
     "text": [
      "Feature Extraction: 100%|██████████| 20/20 [11:50<00:00, 35.50s/it]\n"
     ]
    },
    {
     "name": "stdout",
     "output_type": "stream",
     "text": [
      "Done Extracting Features in 0:12:53.118594\n",
      "Droped 19 duplicate features\n",
      "Droped 13 features with NA values\n",
      "Selected 10 out of 20 features: [0, 2, 3, 4, 1, 5, 6, 8, 15, 7]\n"
     ]
    }
   ],
   "source": [
    "train_long_h_ftrs = features_long_h_pipe.fit_transform(train)"
   ]
  },
  {
   "cell_type": "code",
   "execution_count": 27,
   "metadata": {},
   "outputs": [],
   "source": [
    "import pickle\n",
    "pickle.dump(train_long_h_ftrs, open('train_long_h_ftrs.pkl','wb'))"
   ]
  },
  {
   "cell_type": "code",
   "execution_count": 25,
   "metadata": {},
   "outputs": [
    {
     "name": "stdout",
     "output_type": "stream",
     "text": [
      "Droped low variance features: ['OperationalSetting3', 'Sensor-1Measurement', 'Sensor-5Measurement', 'Sensor-10Measurement', 'Sensor-16Measurement', 'Sensor-18Measurement', 'Sensor-19Measurement']\n",
      "Start Rolling TS\n"
     ]
    },
    {
     "name": "stderr",
     "output_type": "stream",
     "text": [
      "Rolling: 100%|██████████| 20/20 [00:12<00:00,  1.60it/s]\n"
     ]
    },
    {
     "name": "stdout",
     "output_type": "stream",
     "text": [
      "Done Rolling TS in 0:00:14.007954\n",
      "Start Extracting Features\n"
     ]
    },
    {
     "name": "stderr",
     "output_type": "stream",
     "text": [
      "Feature Extraction: 100%|██████████| 20/20 [00:40<00:00,  2.01s/it]\n"
     ]
    },
    {
     "name": "stdout",
     "output_type": "stream",
     "text": [
      "Done Extracting Features in 0:00:41.571154\n",
      "Droped 0 duplicate features\n",
      "Droped 0 features with NA values\n",
      "Selected 15 out of 15 features: ['Sensor-2Measurement__mean', 'Sensor-3Measurement__mean', 'Sensor-4Measurement__mean', 'Sensor-7Measurement__mean', 'Sensor-8Measurement__mean', 'Sensor-9Measurement__mean', 'Sensor-11Measurement__mean', 'Sensor-12Measurement__mean', 'Sensor-13Measurement__mean', 'Sensor-15Measurement__mean', 'Sensor-17Measurement__mean', 'Sensor-20Measurement__mean', 'Sensor-21Measurement__mean', 'Sensor-14Measurement__mean', 'Sensor-6Measurement__mean']\n"
     ]
    }
   ],
   "source": [
    "train_short_h_ftrs = features_short_h_pipe.fit_transform(train)"
   ]
  },
  {
   "cell_type": "code",
   "execution_count": 29,
   "metadata": {},
   "outputs": [],
   "source": [
    "pickle.dump(train_short_h_ftrs, open('train_short_h_ftrs.pkl','wb'))"
   ]
  },
  {
   "cell_type": "code",
   "execution_count": 26,
   "metadata": {},
   "outputs": [
    {
     "name": "stdout",
     "output_type": "stream",
     "text": [
      "train_ftrs:  (17731, 25)\n"
     ]
    },
    {
     "data": {
      "text/html": [
       "<div>\n",
       "<style scoped>\n",
       "    .dataframe tbody tr th:only-of-type {\n",
       "        vertical-align: middle;\n",
       "    }\n",
       "\n",
       "    .dataframe tbody tr th {\n",
       "        vertical-align: top;\n",
       "    }\n",
       "\n",
       "    .dataframe thead th {\n",
       "        text-align: right;\n",
       "    }\n",
       "</style>\n",
       "<table border=\"1\" class=\"dataframe\">\n",
       "  <thead>\n",
       "    <tr style=\"text-align: right;\">\n",
       "      <th></th>\n",
       "      <th></th>\n",
       "      <th>0</th>\n",
       "      <th>2</th>\n",
       "      <th>3</th>\n",
       "      <th>4</th>\n",
       "      <th>1</th>\n",
       "      <th>5</th>\n",
       "      <th>6</th>\n",
       "      <th>8</th>\n",
       "      <th>15</th>\n",
       "      <th>7</th>\n",
       "      <th>...</th>\n",
       "      <th>Sensor-9Measurement__mean</th>\n",
       "      <th>Sensor-11Measurement__mean</th>\n",
       "      <th>Sensor-12Measurement__mean</th>\n",
       "      <th>Sensor-13Measurement__mean</th>\n",
       "      <th>Sensor-15Measurement__mean</th>\n",
       "      <th>Sensor-17Measurement__mean</th>\n",
       "      <th>Sensor-20Measurement__mean</th>\n",
       "      <th>Sensor-21Measurement__mean</th>\n",
       "      <th>Sensor-14Measurement__mean</th>\n",
       "      <th>Sensor-6Measurement__mean</th>\n",
       "    </tr>\n",
       "    <tr>\n",
       "      <th>Unit</th>\n",
       "      <th>Time</th>\n",
       "      <th></th>\n",
       "      <th></th>\n",
       "      <th></th>\n",
       "      <th></th>\n",
       "      <th></th>\n",
       "      <th></th>\n",
       "      <th></th>\n",
       "      <th></th>\n",
       "      <th></th>\n",
       "      <th></th>\n",
       "      <th></th>\n",
       "      <th></th>\n",
       "      <th></th>\n",
       "      <th></th>\n",
       "      <th></th>\n",
       "      <th></th>\n",
       "      <th></th>\n",
       "      <th></th>\n",
       "      <th></th>\n",
       "      <th></th>\n",
       "      <th></th>\n",
       "    </tr>\n",
       "  </thead>\n",
       "  <tbody>\n",
       "    <tr>\n",
       "      <th rowspan=\"2\" valign=\"top\">1.0</th>\n",
       "      <th>30.0</th>\n",
       "      <td>-9.617814</td>\n",
       "      <td>-1.435505</td>\n",
       "      <td>5.182424</td>\n",
       "      <td>0.054635</td>\n",
       "      <td>-1.197233</td>\n",
       "      <td>0.807334</td>\n",
       "      <td>-0.660171</td>\n",
       "      <td>1.903688</td>\n",
       "      <td>-0.233581</td>\n",
       "      <td>4.071652</td>\n",
       "      <td>...</td>\n",
       "      <td>-1.360</td>\n",
       "      <td>0.064</td>\n",
       "      <td>0.144</td>\n",
       "      <td>0.022</td>\n",
       "      <td>0.00927</td>\n",
       "      <td>0.2</td>\n",
       "      <td>-1.600000e-02</td>\n",
       "      <td>-0.00622</td>\n",
       "      <td>0.566</td>\n",
       "      <td>0.0</td>\n",
       "    </tr>\n",
       "    <tr>\n",
       "      <th>31.0</th>\n",
       "      <td>-9.602717</td>\n",
       "      <td>-1.297968</td>\n",
       "      <td>5.129612</td>\n",
       "      <td>0.178769</td>\n",
       "      <td>-1.074985</td>\n",
       "      <td>1.974322</td>\n",
       "      <td>-0.920522</td>\n",
       "      <td>1.937442</td>\n",
       "      <td>-0.524550</td>\n",
       "      <td>3.034159</td>\n",
       "      <td>...</td>\n",
       "      <td>0.974</td>\n",
       "      <td>0.094</td>\n",
       "      <td>0.078</td>\n",
       "      <td>0.022</td>\n",
       "      <td>0.00615</td>\n",
       "      <td>-0.2</td>\n",
       "      <td>-2.842171e-15</td>\n",
       "      <td>-0.02214</td>\n",
       "      <td>-0.608</td>\n",
       "      <td>0.0</td>\n",
       "    </tr>\n",
       "  </tbody>\n",
       "</table>\n",
       "<p>2 rows × 25 columns</p>\n",
       "</div>"
      ],
      "text/plain": [
       "                  0         2         3         4         1         5  \\\n",
       "Unit Time                                                               \n",
       "1.0  30.0 -9.617814 -1.435505  5.182424  0.054635 -1.197233  0.807334   \n",
       "     31.0 -9.602717 -1.297968  5.129612  0.178769 -1.074985  1.974322   \n",
       "\n",
       "                  6         8        15         7  ...  \\\n",
       "Unit Time                                          ...   \n",
       "1.0  30.0 -0.660171  1.903688 -0.233581  4.071652  ...   \n",
       "     31.0 -0.920522  1.937442 -0.524550  3.034159  ...   \n",
       "\n",
       "           Sensor-9Measurement__mean  Sensor-11Measurement__mean  \\\n",
       "Unit Time                                                          \n",
       "1.0  30.0                     -1.360                       0.064   \n",
       "     31.0                      0.974                       0.094   \n",
       "\n",
       "           Sensor-12Measurement__mean  Sensor-13Measurement__mean  \\\n",
       "Unit Time                                                           \n",
       "1.0  30.0                       0.144                       0.022   \n",
       "     31.0                       0.078                       0.022   \n",
       "\n",
       "           Sensor-15Measurement__mean  Sensor-17Measurement__mean  \\\n",
       "Unit Time                                                           \n",
       "1.0  30.0                     0.00927                         0.2   \n",
       "     31.0                     0.00615                        -0.2   \n",
       "\n",
       "           Sensor-20Measurement__mean  Sensor-21Measurement__mean  \\\n",
       "Unit Time                                                           \n",
       "1.0  30.0               -1.600000e-02                    -0.00622   \n",
       "     31.0               -2.842171e-15                    -0.02214   \n",
       "\n",
       "           Sensor-14Measurement__mean  Sensor-6Measurement__mean  \n",
       "Unit Time                                                         \n",
       "1.0  30.0                       0.566                        0.0  \n",
       "     31.0                      -0.608                        0.0  \n",
       "\n",
       "[2 rows x 25 columns]"
      ]
     },
     "execution_count": 26,
     "metadata": {},
     "output_type": "execute_result"
    }
   ],
   "source": [
    "train_ftrs = train_long_h_ftrs.merge(train_short_h_ftrs, how='inner', right_index=True, left_index=True)\n",
    "train_ftrs.index = train_ftrs.index.set_names(['Unit', 'Time'])\n",
    "\n",
    "print('train_ftrs: ', train_ftrs.shape)\n",
    "train_ftrs.head(2)"
   ]
  },
  {
   "cell_type": "code",
   "execution_count": 27,
   "metadata": {},
   "outputs": [],
   "source": [
    "X_train = train_ftrs.reset_index().drop(columns=['Unit'])\n",
    "\n",
    "train_units_df = train_ftrs.index.to_frame(index=False)\n",
    "y_train = calculate_RUL(train_units_df, upper_threshold=RUL_THRESHOLD)"
   ]
  },
  {
   "cell_type": "code",
   "execution_count": 28,
   "metadata": {},
   "outputs": [
    {
     "name": "stdout",
     "output_type": "stream",
     "text": [
      "[test] :: root mean squared error : 13.81 +- 1.22\n",
      "[train] :: root mean squared error : 14.08 +- 0.20\n",
      "[test] :: mean absolute error : 10.85 +- 0.89\n",
      "[train] :: mean absolute error : 11.05 +- 0.17\n"
     ]
    }
   ],
   "source": [
    "model = Pipeline([\n",
    "    ('scale', StandardScaler()),\n",
    "    ('model', PoissonRegressor(alpha=0.01))\n",
    "])\n",
    "\n",
    "cv_res = evaluate(\n",
    "    model, \n",
    "    X=X_train.values, \n",
    "    y=y_train, \n",
    "    groups=train_units_df['Unit'], \n",
    "    cv=CustomGroupKFold(n_splits=5)\n",
    ")"
   ]
  },
  {
   "cell_type": "markdown",
   "metadata": {},
   "source": [
    "NGBoost"
   ]
  },
  {
   "cell_type": "code",
   "execution_count": 29,
   "metadata": {},
   "outputs": [
    {
     "name": "stdout",
     "output_type": "stream",
     "text": [
      "Requirement already satisfied: ngboost in c:\\users\\sunil kumar\\anaconda3\\lib\\site-packages (0.3.12)Note: you may need to restart the kernel to use updated packages.\n",
      "\n",
      "Requirement already satisfied: scipy>=1.3 in c:\\users\\sunil kumar\\anaconda3\\lib\\site-packages (from ngboost) (1.7.3)\n",
      "Requirement already satisfied: lifelines>=0.25 in c:\\users\\sunil kumar\\anaconda3\\lib\\site-packages (from ngboost) (0.27.1)\n",
      "Requirement already satisfied: numpy>=1.17 in c:\\users\\sunil kumar\\anaconda3\\lib\\site-packages (from ngboost) (1.21.5)\n",
      "Requirement already satisfied: tqdm>=4.3 in c:\\users\\sunil kumar\\anaconda3\\lib\\site-packages (from ngboost) (4.64.0)\n",
      "Requirement already satisfied: scikit-learn>=0.21 in c:\\users\\sunil kumar\\anaconda3\\lib\\site-packages (from ngboost) (1.0.2)\n",
      "Requirement already satisfied: pandas>=1.0.0 in c:\\users\\sunil kumar\\anaconda3\\lib\\site-packages (from lifelines>=0.25->ngboost) (1.4.2)\n",
      "Requirement already satisfied: formulaic>=0.2.2 in c:\\users\\sunil kumar\\anaconda3\\lib\\site-packages (from lifelines>=0.25->ngboost) (0.3.4)\n",
      "Requirement already satisfied: autograd-gamma>=0.3 in c:\\users\\sunil kumar\\anaconda3\\lib\\site-packages (from lifelines>=0.25->ngboost) (0.5.0)\n",
      "Requirement already satisfied: matplotlib>=3.0 in c:\\users\\sunil kumar\\anaconda3\\lib\\site-packages (from lifelines>=0.25->ngboost) (3.5.1)\n",
      "Requirement already satisfied: autograd>=1.3 in c:\\users\\sunil kumar\\anaconda3\\lib\\site-packages (from lifelines>=0.25->ngboost) (1.4)\n",
      "Requirement already satisfied: future>=0.15.2 in c:\\users\\sunil kumar\\anaconda3\\lib\\site-packages (from autograd>=1.3->lifelines>=0.25->ngboost) (0.18.2)\n",
      "Requirement already satisfied: interface-meta<2.0.0,>=1.2.0 in c:\\users\\sunil kumar\\anaconda3\\lib\\site-packages (from formulaic>=0.2.2->lifelines>=0.25->ngboost) (1.3.0)\n",
      "Requirement already satisfied: wrapt>=1.0 in c:\\users\\sunil kumar\\anaconda3\\lib\\site-packages (from formulaic>=0.2.2->lifelines>=0.25->ngboost) (1.12.1)\n",
      "Requirement already satisfied: astor>=0.8 in c:\\users\\sunil kumar\\anaconda3\\lib\\site-packages (from formulaic>=0.2.2->lifelines>=0.25->ngboost) (0.8.1)\n",
      "Requirement already satisfied: pyparsing>=2.2.1 in c:\\users\\sunil kumar\\anaconda3\\lib\\site-packages (from matplotlib>=3.0->lifelines>=0.25->ngboost) (3.0.4)\n",
      "Requirement already satisfied: fonttools>=4.22.0 in c:\\users\\sunil kumar\\anaconda3\\lib\\site-packages (from matplotlib>=3.0->lifelines>=0.25->ngboost) (4.25.0)\n",
      "Requirement already satisfied: packaging>=20.0 in c:\\users\\sunil kumar\\anaconda3\\lib\\site-packages (from matplotlib>=3.0->lifelines>=0.25->ngboost) (21.3)\n",
      "Requirement already satisfied: pillow>=6.2.0 in c:\\users\\sunil kumar\\anaconda3\\lib\\site-packages (from matplotlib>=3.0->lifelines>=0.25->ngboost) (9.0.1)\n",
      "Requirement already satisfied: cycler>=0.10 in c:\\users\\sunil kumar\\anaconda3\\lib\\site-packages (from matplotlib>=3.0->lifelines>=0.25->ngboost) (0.11.0)\n",
      "Requirement already satisfied: kiwisolver>=1.0.1 in c:\\users\\sunil kumar\\anaconda3\\lib\\site-packages (from matplotlib>=3.0->lifelines>=0.25->ngboost) (1.3.2)\n",
      "Requirement already satisfied: python-dateutil>=2.7 in c:\\users\\sunil kumar\\anaconda3\\lib\\site-packages (from matplotlib>=3.0->lifelines>=0.25->ngboost) (2.8.2)\n",
      "Requirement already satisfied: pytz>=2020.1 in c:\\users\\sunil kumar\\anaconda3\\lib\\site-packages (from pandas>=1.0.0->lifelines>=0.25->ngboost) (2021.3)\n",
      "Requirement already satisfied: six>=1.5 in c:\\users\\sunil kumar\\anaconda3\\lib\\site-packages (from python-dateutil>=2.7->matplotlib>=3.0->lifelines>=0.25->ngboost) (1.16.0)\n",
      "Requirement already satisfied: joblib>=0.11 in c:\\users\\sunil kumar\\anaconda3\\lib\\site-packages (from scikit-learn>=0.21->ngboost) (1.1.0)\n",
      "Requirement already satisfied: threadpoolctl>=2.0.0 in c:\\users\\sunil kumar\\anaconda3\\lib\\site-packages (from scikit-learn>=0.21->ngboost) (2.2.0)\n",
      "Requirement already satisfied: colorama in c:\\users\\sunil kumar\\anaconda3\\lib\\site-packages (from tqdm>=4.3->ngboost) (0.4.4)\n"
     ]
    }
   ],
   "source": [
    "pip install --upgrade ngboost"
   ]
  },
  {
   "cell_type": "code",
   "execution_count": 30,
   "metadata": {},
   "outputs": [],
   "source": [
    "\n",
    "from ngboost import NGBRegressor\n",
    "from ngboost.distns import LogNormal, Poisson"
   ]
  },
  {
   "cell_type": "code",
   "execution_count": 31,
   "metadata": {},
   "outputs": [
    {
     "name": "stdout",
     "output_type": "stream",
     "text": [
      "[test] :: root mean squared error : 13.47 +- 0.49\n",
      "[train] :: root mean squared error : 12.27 +- 0.12\n",
      "[test] :: mean absolute error : 10.16 +- 0.44\n",
      "[train] :: mean absolute error : 9.41 +- 0.09\n"
     ]
    }
   ],
   "source": [
    "ngb = NGBRegressor(Dist=Poisson)\n",
    "\n",
    "cv_res = evaluate(\n",
    "    ngb,\n",
    "    X=X_train.values, \n",
    "    y=y_train, \n",
    "    groups=train_units_df['Unit'], \n",
    "    cv=CustomGroupKFold(n_splits=4),\n",
    "    n_jobs=4\n",
    ")"
   ]
  },
  {
   "cell_type": "code",
   "execution_count": 32,
   "metadata": {},
   "outputs": [],
   "source": [
    "from sklearn.tree import DecisionTreeRegressor\n",
    "from sklearn.model_selection import GridSearchCV"
   ]
  },
  {
   "cell_type": "code",
   "execution_count": 33,
   "metadata": {},
   "outputs": [
    {
     "data": {
      "text/plain": [
       "GridSearchCV(cv=CustomGroupKFold(n_splits=4),\n",
       "             estimator=NGBRegressor(Dist=<class 'ngboost.distns.poisson.Poisson'>,\n",
       "                                    learning_rate=0.02,\n",
       "                                    random_state=RandomState(MT19937) at 0x1D85172DE40,\n",
       "                                    verbose=False),\n",
       "             n_jobs=6,\n",
       "             param_grid={'Base': [DecisionTreeRegressor(criterion='friedman_mse',\n",
       "                                                        max_depth=4),\n",
       "                                  DecisionTreeRegressor(criterion='friedman_mse',\n",
       "                                                        max_depth=5,\n",
       "                                                        max_features=0.8,\n",
       "                                                        min_samples_split=50)],\n",
       "                         'minibatch_frac': [1, 0.8, 0.5]},\n",
       "             scoring='neg_root_mean_squared_error')"
      ]
     },
     "execution_count": 33,
     "metadata": {},
     "output_type": "execute_result"
    }
   ],
   "source": [
    "param_grid = {\n",
    "    'Base': [\n",
    "        DecisionTreeRegressor(criterion='friedman_mse', max_depth=4),\n",
    "        DecisionTreeRegressor(criterion='friedman_mse', max_depth=5, max_features=0.8, min_samples_split=50),\n",
    "    ],\n",
    "    'minibatch_frac': [1, 0.8, 0.5],\n",
    "}\n",
    "\n",
    "\n",
    "ngb = NGBRegressor(Dist=Poisson, learning_rate=0.02, n_estimators=500, verbose=False)\n",
    "\n",
    "grid_search = GridSearchCV(\n",
    "    ngb,\n",
    "    scoring='neg_root_mean_squared_error',\n",
    "    param_grid=param_grid, \n",
    "    cv=CustomGroupKFold(n_splits=4),\n",
    "    n_jobs=6\n",
    ")\n",
    "\n",
    "grid_search.fit(X_train[y_train > 0].values, \n",
    "                y_train[y_train > 0], \n",
    "                groups=train_units_df[y_train > 0]['Unit'])"
   ]
  },
  {
   "cell_type": "code",
   "execution_count": 34,
   "metadata": {},
   "outputs": [
    {
     "name": "stdout",
     "output_type": "stream",
     "text": [
      "[test] :: root mean squared error : 12.76 +- 0.26\n",
      "[train] :: root mean squared error : 9.98 +- 0.07\n",
      "[test] :: mean absolute error : 9.51 +- 0.33\n",
      "[train] :: mean absolute error : 7.29 +- 0.06\n"
     ]
    }
   ],
   "source": [
    "ngb_base = DecisionTreeRegressor(criterion='friedman_mse', max_depth=5, max_features=0.8, min_samples_leaf=50)\n",
    "ngb = NGBRegressor(Dist=Poisson, Base=ngb_base, learning_rate=0.01, \n",
    "                   col_sample=0.8, minibatch_frac=0.5, n_estimators=400)\n",
    "\n",
    "cv_res = evaluate(\n",
    "    ngb,\n",
    "    X=X_train[y_train > 0].values, \n",
    "    y=y_train[y_train > 0], \n",
    "    groups=train_units_df[y_train > 0]['Unit'], \n",
    "    cv=CustomGroupKFold(n_splits=4),\n",
    "    n_jobs=4\n",
    ")"
   ]
  },
  {
   "cell_type": "code",
   "execution_count": 35,
   "metadata": {},
   "outputs": [
    {
     "name": "stderr",
     "output_type": "stream",
     "text": [
      "C:\\Users\\Sunil kumar\\AppData\\Local\\Temp\\ipykernel_27236\\3677255870.py:3: FutureWarning: The frame.append method is deprecated and will be removed from pandas in a future version. Use pandas.concat instead.\n",
      "  ftr_importance = ftr_importance.append(\n"
     ]
    },
    {
     "data": {
      "text/html": [
       "<div>\n",
       "<style scoped>\n",
       "    .dataframe tbody tr th:only-of-type {\n",
       "        vertical-align: middle;\n",
       "    }\n",
       "\n",
       "    .dataframe tbody tr th {\n",
       "        vertical-align: top;\n",
       "    }\n",
       "\n",
       "    .dataframe thead th {\n",
       "        text-align: right;\n",
       "    }\n",
       "</style>\n",
       "<table border=\"1\" class=\"dataframe\">\n",
       "  <thead>\n",
       "    <tr style=\"text-align: right;\">\n",
       "      <th></th>\n",
       "      <th>feature</th>\n",
       "      <th>mean</th>\n",
       "      <th>std</th>\n",
       "    </tr>\n",
       "  </thead>\n",
       "  <tbody>\n",
       "    <tr>\n",
       "      <th>0</th>\n",
       "      <td>0</td>\n",
       "      <td>0.304978</td>\n",
       "      <td>0.015142</td>\n",
       "    </tr>\n",
       "    <tr>\n",
       "      <th>1</th>\n",
       "      <td>Sensor-4Measurement__mean</td>\n",
       "      <td>0.108000</td>\n",
       "      <td>0.025468</td>\n",
       "    </tr>\n",
       "    <tr>\n",
       "      <th>2</th>\n",
       "      <td>Sensor-11Measurement__mean</td>\n",
       "      <td>0.081397</td>\n",
       "      <td>0.028543</td>\n",
       "    </tr>\n",
       "    <tr>\n",
       "      <th>3</th>\n",
       "      <td>Time</td>\n",
       "      <td>0.066367</td>\n",
       "      <td>0.004837</td>\n",
       "    </tr>\n",
       "    <tr>\n",
       "      <th>4</th>\n",
       "      <td>Sensor-15Measurement__mean</td>\n",
       "      <td>0.063268</td>\n",
       "      <td>0.005296</td>\n",
       "    </tr>\n",
       "    <tr>\n",
       "      <th>5</th>\n",
       "      <td>Sensor-6Measurement__mean</td>\n",
       "      <td>0.048660</td>\n",
       "      <td>0.006319</td>\n",
       "    </tr>\n",
       "    <tr>\n",
       "      <th>6</th>\n",
       "      <td>Sensor-21Measurement__mean</td>\n",
       "      <td>0.042335</td>\n",
       "      <td>0.024612</td>\n",
       "    </tr>\n",
       "    <tr>\n",
       "      <th>7</th>\n",
       "      <td>Sensor-9Measurement__mean</td>\n",
       "      <td>0.029263</td>\n",
       "      <td>0.006708</td>\n",
       "    </tr>\n",
       "    <tr>\n",
       "      <th>8</th>\n",
       "      <td>3</td>\n",
       "      <td>0.025100</td>\n",
       "      <td>0.007360</td>\n",
       "    </tr>\n",
       "    <tr>\n",
       "      <th>9</th>\n",
       "      <td>2</td>\n",
       "      <td>0.023505</td>\n",
       "      <td>0.002960</td>\n",
       "    </tr>\n",
       "    <tr>\n",
       "      <th>10</th>\n",
       "      <td>Sensor-14Measurement__mean</td>\n",
       "      <td>0.022080</td>\n",
       "      <td>0.005217</td>\n",
       "    </tr>\n",
       "    <tr>\n",
       "      <th>11</th>\n",
       "      <td>Sensor-20Measurement__mean</td>\n",
       "      <td>0.020975</td>\n",
       "      <td>0.011489</td>\n",
       "    </tr>\n",
       "    <tr>\n",
       "      <th>12</th>\n",
       "      <td>Sensor-3Measurement__mean</td>\n",
       "      <td>0.018145</td>\n",
       "      <td>0.011826</td>\n",
       "    </tr>\n",
       "    <tr>\n",
       "      <th>13</th>\n",
       "      <td>1</td>\n",
       "      <td>0.016497</td>\n",
       "      <td>0.001727</td>\n",
       "    </tr>\n",
       "    <tr>\n",
       "      <th>14</th>\n",
       "      <td>6</td>\n",
       "      <td>0.013867</td>\n",
       "      <td>0.004669</td>\n",
       "    </tr>\n",
       "    <tr>\n",
       "      <th>15</th>\n",
       "      <td>Sensor-12Measurement__mean</td>\n",
       "      <td>0.012965</td>\n",
       "      <td>0.003862</td>\n",
       "    </tr>\n",
       "    <tr>\n",
       "      <th>16</th>\n",
       "      <td>5</td>\n",
       "      <td>0.012117</td>\n",
       "      <td>0.003281</td>\n",
       "    </tr>\n",
       "    <tr>\n",
       "      <th>17</th>\n",
       "      <td>7</td>\n",
       "      <td>0.011908</td>\n",
       "      <td>0.004025</td>\n",
       "    </tr>\n",
       "    <tr>\n",
       "      <th>18</th>\n",
       "      <td>4</td>\n",
       "      <td>0.011857</td>\n",
       "      <td>0.002667</td>\n",
       "    </tr>\n",
       "    <tr>\n",
       "      <th>19</th>\n",
       "      <td>Sensor-7Measurement__mean</td>\n",
       "      <td>0.011378</td>\n",
       "      <td>0.006498</td>\n",
       "    </tr>\n",
       "    <tr>\n",
       "      <th>20</th>\n",
       "      <td>Sensor-8Measurement__mean</td>\n",
       "      <td>0.011333</td>\n",
       "      <td>0.003251</td>\n",
       "    </tr>\n",
       "    <tr>\n",
       "      <th>21</th>\n",
       "      <td>8</td>\n",
       "      <td>0.011205</td>\n",
       "      <td>0.005552</td>\n",
       "    </tr>\n",
       "    <tr>\n",
       "      <th>22</th>\n",
       "      <td>Sensor-2Measurement__mean</td>\n",
       "      <td>0.009938</td>\n",
       "      <td>0.003113</td>\n",
       "    </tr>\n",
       "    <tr>\n",
       "      <th>23</th>\n",
       "      <td>15</td>\n",
       "      <td>0.009723</td>\n",
       "      <td>0.003075</td>\n",
       "    </tr>\n",
       "    <tr>\n",
       "      <th>24</th>\n",
       "      <td>Sensor-13Measurement__mean</td>\n",
       "      <td>0.006727</td>\n",
       "      <td>0.002233</td>\n",
       "    </tr>\n",
       "    <tr>\n",
       "      <th>25</th>\n",
       "      <td>Sensor-17Measurement__mean</td>\n",
       "      <td>0.006400</td>\n",
       "      <td>0.001515</td>\n",
       "    </tr>\n",
       "  </tbody>\n",
       "</table>\n",
       "</div>"
      ],
      "text/plain": [
       "                       feature      mean       std\n",
       "0                            0  0.304978  0.015142\n",
       "1    Sensor-4Measurement__mean  0.108000  0.025468\n",
       "2   Sensor-11Measurement__mean  0.081397  0.028543\n",
       "3                         Time  0.066367  0.004837\n",
       "4   Sensor-15Measurement__mean  0.063268  0.005296\n",
       "5    Sensor-6Measurement__mean  0.048660  0.006319\n",
       "6   Sensor-21Measurement__mean  0.042335  0.024612\n",
       "7    Sensor-9Measurement__mean  0.029263  0.006708\n",
       "8                            3  0.025100  0.007360\n",
       "9                            2  0.023505  0.002960\n",
       "10  Sensor-14Measurement__mean  0.022080  0.005217\n",
       "11  Sensor-20Measurement__mean  0.020975  0.011489\n",
       "12   Sensor-3Measurement__mean  0.018145  0.011826\n",
       "13                           1  0.016497  0.001727\n",
       "14                           6  0.013867  0.004669\n",
       "15  Sensor-12Measurement__mean  0.012965  0.003862\n",
       "16                           5  0.012117  0.003281\n",
       "17                           7  0.011908  0.004025\n",
       "18                           4  0.011857  0.002667\n",
       "19   Sensor-7Measurement__mean  0.011378  0.006498\n",
       "20   Sensor-8Measurement__mean  0.011333  0.003251\n",
       "21                           8  0.011205  0.005552\n",
       "22   Sensor-2Measurement__mean  0.009938  0.003113\n",
       "23                          15  0.009723  0.003075\n",
       "24  Sensor-13Measurement__mean  0.006727  0.002233\n",
       "25  Sensor-17Measurement__mean  0.006400  0.001515"
      ]
     },
     "execution_count": 35,
     "metadata": {},
     "output_type": "execute_result"
    }
   ],
   "source": [
    "ftr_importance = pd.DataFrame()\n",
    "for i, cv_estimator in enumerate(cv_res['estimator']):\n",
    "    ftr_importance = ftr_importance.append(\n",
    "        pd.DataFrame({\n",
    "        'cv_iter': i,\n",
    "        'feature': X_train.columns,\n",
    "        'importance': cv_estimator.feature_importances_.reshape(-1).round(5)\n",
    "        }),\n",
    "        ignore_index=True\n",
    "    )\n",
    "\n",
    "ftr_importance_agg = (ftr_importance\n",
    "    .groupby('feature')['importance']\n",
    "    .agg(['mean', 'std'])\n",
    "    .sort_values('mean', ascending=False)\n",
    "    .reset_index()\n",
    ")\n",
    "\n",
    "ftr_importance_agg"
   ]
  },
  {
   "cell_type": "code",
   "execution_count": 36,
   "metadata": {},
   "outputs": [
    {
     "data": {
      "text/plain": [
       "array(['Sensor-8Measurement__mean', 8, 'Sensor-2Measurement__mean', 15,\n",
       "       'Sensor-13Measurement__mean', 'Sensor-17Measurement__mean'],\n",
       "      dtype=object)"
      ]
     },
     "execution_count": 36,
     "metadata": {},
     "output_type": "execute_result"
    }
   ],
   "source": [
    "drop_features = ftr_importance_agg['feature'].iloc[-6:].values\n",
    "drop_features"
   ]
  },
  {
   "cell_type": "code",
   "execution_count": 37,
   "metadata": {},
   "outputs": [
    {
     "data": {
      "text/plain": [
       "array([0, 'Sensor-4Measurement__mean', 'Sensor-11Measurement__mean',\n",
       "       'Time', 'Sensor-15Measurement__mean', 'Sensor-6Measurement__mean',\n",
       "       'Sensor-21Measurement__mean', 'Sensor-9Measurement__mean', 3, 2,\n",
       "       'Sensor-14Measurement__mean', 'Sensor-20Measurement__mean',\n",
       "       'Sensor-3Measurement__mean', 1, 6, 'Sensor-12Measurement__mean', 5,\n",
       "       7, 4, 'Sensor-7Measurement__mean'], dtype=object)"
      ]
     },
     "execution_count": 37,
     "metadata": {},
     "output_type": "execute_result"
    }
   ],
   "source": [
    "SELECTED_FEATURES = ftr_importance_agg['feature'].iloc[:-6].values\n",
    "SELECTED_FEATURES"
   ]
  },
  {
   "cell_type": "code",
   "execution_count": 38,
   "metadata": {},
   "outputs": [
    {
     "name": "stdout",
     "output_type": "stream",
     "text": [
      "[test] :: root mean squared error : 12.79 +- 0.13\n",
      "[train] :: root mean squared error : 10.05 +- 0.11\n",
      "[test] :: mean absolute error : 9.52 +- 0.26\n",
      "[train] :: mean absolute error : 7.36 +- 0.09\n"
     ]
    }
   ],
   "source": [
    "ngb_base = DecisionTreeRegressor(criterion='friedman_mse', max_depth=5, max_features=0.8, min_samples_leaf=50)\n",
    "ngb = NGBRegressor(Dist=Poisson, Base=ngb_base, learning_rate=0.01, \n",
    "                   col_sample=0.8, minibatch_frac=0.5, n_estimators=400, verbose=False)\n",
    "\n",
    "cv_res = evaluate(\n",
    "    ngb,\n",
    "    X=X_train[SELECTED_FEATURES][y_train > 0].values, \n",
    "    y=y_train[y_train > 0], \n",
    "    groups=train_units_df[y_train > 0]['Unit'], \n",
    "    cv=CustomGroupKFold(n_splits=4),\n",
    "    n_jobs=4\n",
    ")"
   ]
  },
  {
   "cell_type": "markdown",
   "metadata": {},
   "source": [
    "Evaluate"
   ]
  },
  {
   "cell_type": "code",
   "execution_count": null,
   "metadata": {},
   "outputs": [],
   "source": [
    "#ngb.fit(X_train[SELECTED_FEATURES][y_train > 0].values, y_train[y_train > 0])"
   ]
  },
  {
   "cell_type": "code",
   "execution_count": 39,
   "metadata": {},
   "outputs": [
    {
     "data": {
      "text/plain": [
       "NGBRegressor(Base=DecisionTreeRegressor(criterion='friedman_mse', max_depth=5,\n",
       "                                        max_features=0.8, min_samples_leaf=50),\n",
       "             Dist=<class 'ngboost.distns.poisson.Poisson'>, col_sample=0.8,\n",
       "             minibatch_frac=0.5, n_estimators=400,\n",
       "             random_state=RandomState(MT19937) at 0x1D85172DE40, verbose=False)"
      ]
     },
     "execution_count": 39,
     "metadata": {},
     "output_type": "execute_result"
    }
   ],
   "source": [
    "ngb.fit(X_train[y_train > 0].values, y_train[y_train > 0])"
   ]
  },
  {
   "cell_type": "code",
   "execution_count": 40,
   "metadata": {},
   "outputs": [
    {
     "name": "stdout",
     "output_type": "stream",
     "text": [
      "Droped low variance features: ['OperationalSetting3', 'Sensor-1Measurement', 'Sensor-5Measurement', 'Sensor-10Measurement', 'Sensor-16Measurement', 'Sensor-18Measurement', 'Sensor-19Measurement']\n",
      "Start Rolling TS\n"
     ]
    },
    {
     "name": "stderr",
     "output_type": "stream",
     "text": [
      "Rolling: 100%|██████████| 20/20 [00:10<00:00,  1.90it/s]\n"
     ]
    },
    {
     "name": "stdout",
     "output_type": "stream",
     "text": [
      "Done Rolling TS in 0:00:11.336169\n",
      "Start Extracting Features\n"
     ]
    },
    {
     "name": "stderr",
     "output_type": "stream",
     "text": [
      "Feature Extraction: 100%|██████████| 20/20 [06:47<00:00, 20.38s/it]\n"
     ]
    },
    {
     "name": "stdout",
     "output_type": "stream",
     "text": [
      "Done Extracting Features in 0:07:06.416253\n",
      "Droped 19 duplicate features\n",
      "Droped 13 features with NA values\n"
     ]
    }
   ],
   "source": [
    "test_long_h_fts = features_long_h_pipe.transform(test)"
   ]
  },
  {
   "cell_type": "code",
   "execution_count": 44,
   "metadata": {},
   "outputs": [],
   "source": [
    "import pickle\n",
    "pickle.dump(test_long_h_fts, open('test_long_h_ftrs_1.pkl','wb'))"
   ]
  },
  {
   "cell_type": "code",
   "execution_count": 41,
   "metadata": {},
   "outputs": [
    {
     "name": "stdout",
     "output_type": "stream",
     "text": [
      "Droped low variance features: ['OperationalSetting3', 'Sensor-1Measurement', 'Sensor-5Measurement', 'Sensor-10Measurement', 'Sensor-16Measurement', 'Sensor-18Measurement', 'Sensor-19Measurement']\n",
      "Start Rolling TS\n"
     ]
    },
    {
     "name": "stderr",
     "output_type": "stream",
     "text": [
      "Rolling: 100%|██████████| 20/20 [00:10<00:00,  1.88it/s]\n"
     ]
    },
    {
     "name": "stdout",
     "output_type": "stream",
     "text": [
      "Done Rolling TS in 0:00:11.201263\n",
      "Start Extracting Features\n"
     ]
    },
    {
     "name": "stderr",
     "output_type": "stream",
     "text": [
      "Feature Extraction: 100%|██████████| 20/20 [00:25<00:00,  1.29s/it]\n"
     ]
    },
    {
     "name": "stdout",
     "output_type": "stream",
     "text": [
      "Done Extracting Features in 0:00:26.889182\n",
      "Droped 0 duplicate features\n",
      "Droped 0 features with NA values\n"
     ]
    }
   ],
   "source": [
    "test_short_h_fts = features_short_h_pipe.transform(test)"
   ]
  },
  {
   "cell_type": "code",
   "execution_count": 46,
   "metadata": {},
   "outputs": [],
   "source": [
    "import pickle\n",
    "pickle.dump(test_short_h_fts, open('test_short_h_ftrs_1.pkl','wb'))"
   ]
  },
  {
   "cell_type": "code",
   "execution_count": 42,
   "metadata": {},
   "outputs": [],
   "source": [
    "test_ftrs = test_long_h_fts.merge(test_short_h_fts, how='inner', right_index=True, left_index=True)\n",
    "test_ftrs.index = test_ftrs.index.set_names(['Unit', 'Time'])\n"
   ]
  },
  {
   "cell_type": "code",
   "execution_count": 43,
   "metadata": {},
   "outputs": [
    {
     "name": "stdout",
     "output_type": "stream",
     "text": [
      "test_ftrs:  (10196, 25)\n"
     ]
    }
   ],
   "source": [
    "X_test = test_ftrs.reset_index().drop(columns=['Unit'])\n",
    "test_units = test_ftrs.index.to_frame(index=False)\n",
    "\n",
    "print('test_ftrs: ', test_ftrs.shape)"
   ]
  },
  {
   "cell_type": "code",
   "execution_count": 44,
   "metadata": {},
   "outputs": [
    {
     "data": {
      "text/plain": [
       "{'rmse': 12.6673893976529,\n",
       " 'mae': 9.352091382178823,\n",
       " 'mape': 0.1689747880303244}"
      ]
     },
     "execution_count": 44,
     "metadata": {},
     "output_type": "execute_result"
    },
    {
     "data": {
      "image/png": "[encoded data removed]",
      "text/plain": [
       "<Figure size 720x432 with 1 Axes>"
      ]
     },
     "metadata": {
      "needs_background": "light"
     },
     "output_type": "display_data"
    }
   ],
   "source": [
    "test_model(ngb, X_test, test_units['Unit'], rul, plot_figures=True)"
   ]
  },
  {
   "cell_type": "code",
   "execution_count": null,
   "metadata": {},
   "outputs": [],
   "source": [
    "#test_model(ngb, X_test[SELECTED_FEATURES], test_units['Unit'], rul, plot_figures=True)"
   ]
  },
  {
   "cell_type": "code",
   "execution_count": 45,
   "metadata": {},
   "outputs": [],
   "source": [
    "model = ngb\n",
    "engines = test_units['Unit']\n",
    "test_rul = rul\n",
    "X_test_last = X_test.groupby(engines, as_index=False).last()"
   ]
  },
  {
   "cell_type": "code",
   "execution_count": 46,
   "metadata": {},
   "outputs": [
    {
     "data": {
      "text/plain": [
       "array([127.88068002, 124.42768182,  51.47899094,  73.94510701,\n",
       "        86.90218991, 100.90415383,  93.94984116,  89.94289475,\n",
       "       129.04205799,  92.01389838, 102.82049995, 103.33863693,\n",
       "        79.14966918, 118.6701281 ,  84.83361918,  74.76394113,\n",
       "        40.38047043,  30.74732719,  88.17998421,  13.12385607,\n",
       "        58.56422354, 130.62204187, 124.94454088,  16.49484768,\n",
       "       130.7916297 , 122.14019807,  64.9778154 ,  95.36782102,\n",
       "        86.94645414, 107.31316191,   6.54449043,  48.19091092,\n",
       "       130.87483886,   3.36927608,  15.53679222,  32.08077218,\n",
       "        15.27614942,  50.72621817, 134.99586239,  46.31126734,\n",
       "        26.06978038,   9.59450908,  48.3946597 , 107.17170674,\n",
       "        99.3422186 ,  45.82061711, 129.62956623, 103.65646751,\n",
       "         9.75855241, 105.48922352,  96.14696204,  26.81762058,\n",
       "        26.25402785,  97.98038705, 111.40291759,  26.813789  ,\n",
       "        94.19599246,  25.47376519, 112.54737965,  87.5907638 ,\n",
       "        15.31548388,  49.87258002,  70.85101319,  23.92530664,\n",
       "       124.44628159,  18.79511697, 125.26882407,  14.02915218,\n",
       "       120.94958737,  77.50744095, 115.62022702,  47.25083382,\n",
       "        99.75378589,  92.62089055,  91.17140965,   5.59394674,\n",
       "        24.79781982, 124.67771672,  65.12326301,  80.86200435,\n",
       "         7.97991074,   7.76054115, 123.98577799,  58.30582496,\n",
       "       127.26326579, 109.54761622, 129.38471784, 127.42924098,\n",
       "       120.48111298,  23.70616715,  48.24777646,  30.65025741,\n",
       "        80.34498498,  49.65783139, 108.39625432, 126.72250923,\n",
       "        88.23411674,  58.84701423, 100.53975717,   9.49433705])"
      ]
     },
     "execution_count": 46,
     "metadata": {},
     "output_type": "execute_result"
    }
   ],
   "source": [
    "pred_rul = model.predict(X_test_last)\n",
    "pred_rul"
   ]
  },
  {
   "cell_type": "code",
   "execution_count": 47,
   "metadata": {},
   "outputs": [
    {
     "name": "stdout",
     "output_type": "stream",
     "text": [
      "[127.88068002]\n"
     ]
    }
   ],
   "source": [
    "#pred_rul = model.predict(X_test_last.values)\n",
    "pred_rul = model.predict(X_test_last.values[0].reshape(1,-1))\n",
    "print(pred_rul)"
   ]
  },
  {
   "cell_type": "code",
   "execution_count": 48,
   "metadata": {},
   "outputs": [
    {
     "data": {
      "text/plain": [
       "{'rmse': 12.6673893976529,\n",
       " 'mae': 9.352091382178823,\n",
       " 'mape': 0.1689747880303244}"
      ]
     },
     "execution_count": 48,
     "metadata": {},
     "output_type": "execute_result"
    }
   ],
   "source": [
    "rul_metrics_score(model, X_test_last.values, test_rul, metrics='all')"
   ]
  },
  {
   "cell_type": "code",
   "execution_count": 89,
   "metadata": {},
   "outputs": [],
   "source": [
    "import pickle\n",
    "pickle.dump(ngb, open('model.pkl','wb'))"
   ]
  }
 ],
 "metadata": {
  "kernelspec": {
   "display_name": "Python 3.9.12 ('base')",
   "language": "python",
   "name": "python3"
  },
  "language_info": {
   "codemirror_mode": {
    "name": "ipython",
    "version": 3
   },
   "file_extension": ".py",
   "mimetype": "text/x-python",
   "name": "python",
   "nbconvert_exporter": "python",
   "pygments_lexer": "ipython3",
   "version": "3.9.12"
  },
  "orig_nbformat": 4,
  "vscode": {
   "interpreter": {
    "hash": "22192d3e71e9b873895439783e7a5898060ca0fe98ca9a8bbb2baa3f1b719c01"
   }
  }
 },
 "nbformat": 4,
 "nbformat_minor": 2
}
